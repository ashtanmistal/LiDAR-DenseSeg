{
 "cells": [
  {
   "cell_type": "markdown",
   "source": [
    "# Planar Segmentation using NDT-RANSAC\n",
    "\n",
    "This method is a derivative of https://github.com/xufana/RANSAC\n",
    "It has been modified to work with my data, and translated from Russian to English\n",
    "\n",
    "After the completion of LiDAR-DenseSeg this will be created as a fork of that repo, and the fork added as a submodule to this repo"
   ],
   "metadata": {
    "collapsed": false
   },
   "id": "b2b4460c1069f50c"
  },
  {
   "cell_type": "code",
   "execution_count": null,
   "id": "initial_id",
   "metadata": {
    "collapsed": true
   },
   "outputs": [],
   "source": [
    "import numpy as np\n",
    "import open3d as o3d\n",
    "import matplotlib.pyplot as plt\n",
    "import math\n",
    "import scipy\n",
    "from tqdm import tqdm_notebook"
   ]
  },
  {
   "cell_type": "code",
   "execution_count": null,
   "outputs": [],
   "source": [
    "data_path = '/data'\n",
    "# For each point cloud (.xyz)"
   ],
   "metadata": {
    "collapsed": false
   },
   "id": "3d4ecc92d448da8d"
  },
  {
   "cell_type": "code",
   "execution_count": null,
   "outputs": [],
   "source": [
    "def read_xyz(filename):\n",
    "    xyz = np.loadtxt(filename, delimiter=' ', dtype=np.float32)\n",
    "    return xyz"
   ],
   "metadata": {
    "collapsed": false
   },
   "id": "b1aba9722a51f432"
  },
  {
   "cell_type": "code",
   "execution_count": null,
   "outputs": [],
   "source": [
    "s = 0.5\n",
    "te = 0.01\n",
    "A = point_cloud_in_numpy // s # dividing PCD into cubes\n",
    "Q = np.array([0, 0, 0]) # flat NDT cells\n",
    "Q_points = []\n",
    "P = [] # other cells"
   ],
   "metadata": {
    "collapsed": false
   },
   "id": "f909981155d466d3"
  },
  {
   "cell_type": "code",
   "execution_count": null,
   "outputs": [],
   "source": [
    "unique,counts=np.unique(A,axis=0, return_counts=True)\n",
    "plt.figure(figsize=(15,5))\n",
    "plt.bar(range(0, len(counts)), counts, width=1.5, color='g')\n",
    "plt.show()"
   ],
   "metadata": {
    "collapsed": false
   },
   "id": "4bf82005e6cdf96c"
  },
  {
   "cell_type": "code",
   "execution_count": null,
   "outputs": [],
   "source": [
    "def IRLS_find_norm(points):\n",
    "    cov = np.cov(np.array(points).T)\n",
    "    #print(\"cov = \", cov)\n",
    "    lambd, e = np.linalg.eig(cov)\n",
    "    e = e.T\n",
    "    o = lambd.argsort()\n",
    "    lambd = lambd[o]\n",
    "    e = e[o]\n",
    "    gamma = 1e-6\n",
    "    k_w = 2.985\n",
    "    n = e[0]\n",
    "    g = np.mean(points, axis = 0)\n",
    "    X_prev = np.zeros(3)\n",
    "    for i in range(100):\n",
    "        n_old = n\n",
    "        r = (points - g) @ n\n",
    "        w = np.exp(-(r ** 2 / k_w ** 2))\n",
    "        X_k = np.average(points - g - X_prev, axis=0, weights=w)\n",
    "        vec = (points - g - X_k)\n",
    "        X_prev = X_k\n",
    "        C = (vec.T * w) @ vec\n",
    "        w, v = np.linalg.eig(C)\n",
    "        v = v.T\n",
    "        o = w.argsort()\n",
    "        w = w[o]\n",
    "        v = v[o]\n",
    "        n = v[0]\n",
    "        convg = np.linalg.norm(n_old - n) / np.linalg.norm(n_old)\n",
    "        if convg < gamma:\n",
    "            break\n",
    "    return n"
   ],
   "metadata": {
    "collapsed": false
   },
   "id": "80e4fa727dd099ff"
  },
  {
   "cell_type": "code",
   "execution_count": null,
   "outputs": [],
   "source": [
    "mu = []\n",
    "normals = []\n",
    "for ind, i in tqdm_notebook(list(enumerate(unique))):\n",
    "    this_cell = np.array(point_cloud_in_numpy[np.where(np.prod(A == i, axis = -1))])\n",
    "    if (len(this_cell) <= 3):\n",
    "        P.append(this_cell)\n",
    "        continue\n",
    "    mu.append(np.mean(this_cell))\n",
    "    cov = np.cov(np.array(this_cell).T)\n",
    "    #print(\"cov = \", cov)\n",
    "    w, v = np.linalg.eig(cov)\n",
    "    v = v.T\n",
    "    o = w.argsort()\n",
    "    w = w[o]\n",
    "    v = v[o]\n",
    "    #print(\"values = \", w)\n",
    "    if (abs(w[0] / w[1]) <= te):\n",
    "        Q = np.vstack((Q, i))\n",
    "        Q_points.append(list(this_cell))\n",
    "        normals.append(IRLS_find_norm(this_cell))\n",
    "    else:\n",
    "        P.append(list(this_cell))\n",
    "Q = Q[1:,]\n",
    "P = np.concatenate(P)"
   ],
   "metadata": {
    "collapsed": false
   },
   "id": "21039a17c80f3198"
  },
  {
   "cell_type": "code",
   "execution_count": null,
   "outputs": [],
   "source": [
    "Q_points = np.array(Q_points)\n",
    "normals = np.array(normals)\n",
    "print(np.shape(normals))"
   ],
   "metadata": {
    "collapsed": false
   },
   "id": "c56637565b2709b2"
  },
  {
   "cell_type": "markdown",
   "source": [
    "# RANSAC"
   ],
   "metadata": {
    "collapsed": false
   },
   "id": "4e3f0ed56cc43734"
  },
  {
   "cell_type": "code",
   "execution_count": null,
   "outputs": [],
   "source": [
    "def plane(Q, P, Q_points, normals):\n",
    "    k_max = 50\n",
    "    nu = 0.95\n",
    "    delta_d = 0.08\n",
    "    n = 0\n",
    "    delta_theta = 0.25\n",
    "    k = 0\n",
    "    Psi = np.zeros(len(Q), dtype=np.bool)\n",
    "    Psi_size = 0\n",
    "    Psi_points = []\n",
    "    k = 1\n",
    "    while k < k_max:\n",
    "        c = np.random.choice(range(0, len(Q)))\n",
    "        cell = Q[c]\n",
    "        points = Q_points[c]\n",
    "        gk = np.mean(points, axis = 0)\n",
    "        nk = normals[c]\n",
    "        Ik = np.zeros(len(Q), dtype=np.bool)\n",
    "        cnt = 0\n",
    "        Ik_points = []\n",
    "        for i, v in enumerate(Q):\n",
    "            g_i = np.mean(Q_points[i], axis = 0)\n",
    "            n_i = normals[i]\n",
    "            d_i = np.dot((g_i - gk), nk) / np.linalg.norm(nk)\n",
    "            theta_i = 1 - np.abs(np.dot(nk, n_i)) / (np.linalg.norm(nk) * np.linalg.norm(n_i))\n",
    "            if (np.abs(d_i) < delta_d and theta_i < delta_theta):\n",
    "    #             print(d_i, theta_i)\n",
    "    #             print(n_i, nk)\n",
    "                Ik[i] = 1\n",
    "                cnt += 1\n",
    "                Ik_points += Q_points[i]\n",
    "        if cnt > Psi_size:\n",
    "            Psi = Ik\n",
    "            Psi_points = Ik_points\n",
    "            Psi_size = cnt\n",
    "            n = nk\n",
    "            g = gk\n",
    "            Pn = Psi_size / len(Q)\n",
    "            k_max = math.ceil(math.log(1 - nu) / math.log(1 - Pn))\n",
    "        k += 1\n",
    "#     print(Psi_size)\n",
    "\n",
    "\n",
    "#     print(Psi_points[0])\n",
    "#     print(np.shape(Psi_points))\n",
    "    \n",
    "    P_mask = np.zeros(len(P), dtype=np.bool)\n",
    "    for j, i in enumerate(P):\n",
    "        d_i = np.inner(i - g, n) / np.linalg.norm(n)\n",
    "        if (np.abs(d_i) < delta_d):\n",
    "            P_mask[j] = 1 \n",
    "            Psi_points += [i]\n",
    "    return n, g, np.array(Psi_points), Q[~Psi], Q_points[~Psi], P[~P_mask], normals[~Psi]\n",
    "#     print(Psi_points[0])\n",
    "#     print(np.shape(Psi_points))  "
   ],
   "metadata": {
    "collapsed": false
   },
   "id": "27a33b859eb4306"
  },
  {
   "cell_type": "code",
   "execution_count": null,
   "outputs": [],
   "source": [
    "def sep(arr):\n",
    "    l = min(z)\n",
    "    h = max(z)\n",
    "    mid = (h + l) / 2\n",
    "    #print(l, mid, h)\n",
    "    ind = np.searchsorted(z, mid)\n",
    "    z1 = z[:ind]\n",
    "    z2 = z[ind:]\n",
    "    floors = []\n",
    "    lwth = 10000\n",
    "    upth = 100000\n",
    "    #print(len(z1) / (mid - l))\n",
    "    #print(len(z2) / (h - mid))\n",
    "    if len(z1) / (mid - l) > upth:\n",
    "        floors.append((l, mid))\n",
    "    elif len(z1) / (mid - l) > lwth:\n",
    "        floors += sep(z1)\n",
    "    if len(z2) / (h - mid) > upth:\n",
    "        floors.append((mid, h))\n",
    "    elif len(z2) / (h - mid) > lwth:\n",
    "        floors += sep(z2)\n",
    "    return floors"
   ],
   "metadata": {
    "collapsed": false
   },
   "id": "76e8f57ff367788f"
  },
  {
   "cell_type": "code",
   "execution_count": null,
   "outputs": [],
   "source": [
    "Q_old = Q\n",
    "P_old = P\n",
    "Q_points_old = Q_points\n",
    "normals_old = normals\n",
    "Q = Q_old\n",
    "P = P_old\n",
    "Q_points = Q_points_old\n",
    "normals = normals_old\n",
    "z = np.sort(point_cloud_in_numpy[:,2])\n",
    "z = sep(z)\n",
    "print(z)"
   ],
   "metadata": {
    "collapsed": false
   },
   "id": "6301c8878f0ccdfa"
  },
  {
   "cell_type": "code",
   "execution_count": null,
   "outputs": [],
   "source": [
    "Q = Q_old\n",
    "P = P_old\n",
    "Q_points = Q_points_old\n",
    "normal_points = normals_old\n",
    "walls_points = np.zeros((0, 3))\n",
    "walls_colors = np.zeros((0, 3))\n",
    "walls_normals = np.zeros((0, 3))\n",
    "floors_points = np.zeros((0, 3))\n",
    "floors_colors = np.zeros((0, 3))\n",
    "floors_normals = np.zeros((0, 3))\n",
    "print(z)\n",
    "final_f = []\n",
    "#for i in range(100):\n",
    "for ind, i in tqdm_notebook(list(enumerate(range(100)))):\n",
    "    #print(np.shape(normal_points))\n",
    "    n, g, Psi_points, Q, Q_points, P, normal_points = plane(Q, P, Q_points, normal_points)\n",
    "    print(n)\n",
    "#     print(g)\n",
    "    print(len(Psi_points))\n",
    "    print(max(Psi_points[:, 2]), min(Psi_points[:, 2]))\n",
    "    if len(Psi_points) < 10000:\n",
    "        break\n",
    "    pcd.points = o3d.utility.Vector3dVector(np.concatenate((floors_points, walls_points)))\n",
    "    pcd.colors = o3d.utility.Vector3dVector(np.concatenate((floors_colors, walls_colors)))\n",
    "    theta_i = 1 - np.abs(np.dot([0, 0, 1], n)) / (np.linalg.norm([0, 0, 1]) * np.linalg.norm(n))\n",
    "    if (theta_i <= 0.15):\n",
    "        mean_z = np.mean(Psi_points[:,2])\n",
    "        for j in z:\n",
    "            if mean_z <= j[1] and mean_z >= j[0]:\n",
    "                print(\"1\")\n",
    "                floors_points = np.concatenate((floors_points, Psi_points))\n",
    "                floors_colors = np.concatenate((floors_colors, np.repeat(np.random.random(3).reshape(1, 3), len(Psi_points), axis = 0)))\n",
    "                floors_normals = np.concatenate((floors_normals, [n] * len(Psi_points)))\n",
    "    else:\n",
    "        print(2)\n",
    "        walls_points = np.concatenate((walls_points, Psi_points))\n",
    "        walls_colors = np.concatenate((walls_points, np.repeat(np.random.random(3).reshape(1, 3), len(Psi_points), axis = 0)))\n",
    "        walls_normals = np.concatenate((walls_normals, [n] * len(Psi_points)))\n",
    "pcd.points = o3d.utility.Vector3dVector(np.concatenate((floors_points, walls_points)))\n",
    "pcd.colors = o3d.utility.Vector3dVector(np.concatenate((floors_colors, walls_colors)))\n",
    "o3d.visualization.draw_geometries([pcd])"
   ],
   "metadata": {
    "collapsed": false
   },
   "id": "aa07f7e5452a13ec"
  },
  {
   "cell_type": "code",
   "execution_count": null,
   "outputs": [],
   "source": [
    "pcd.points = o3d.utility.Vector3dVector(floors_points)\n",
    "pcd.colors = o3d.utility.Vector3dVector(floors_colors)\n",
    "o3d.visualization.draw_geometries([pcd])"
   ],
   "metadata": {
    "collapsed": false
   },
   "id": "96a42c492b78cc80"
  },
  {
   "cell_type": "markdown",
   "source": [
    "# Mesh Creation from Walls, Ceiling, and Floor\n",
    "\n",
    "This will be attempted after the first bit is done. "
   ],
   "metadata": {
    "collapsed": false
   },
   "id": "7927da980de1ac6f"
  },
  {
   "cell_type": "code",
   "execution_count": null,
   "outputs": [],
   "source": [],
   "metadata": {
    "collapsed": false
   },
   "id": "8acccdac3b8a3e3e"
  }
 ],
 "metadata": {
  "kernelspec": {
   "display_name": "Python 3",
   "language": "python",
   "name": "python3"
  },
  "language_info": {
   "codemirror_mode": {
    "name": "ipython",
    "version": 2
   },
   "file_extension": ".py",
   "mimetype": "text/x-python",
   "name": "python",
   "nbconvert_exporter": "python",
   "pygments_lexer": "ipython2",
   "version": "2.7.6"
  }
 },
 "nbformat": 4,
 "nbformat_minor": 5
}
