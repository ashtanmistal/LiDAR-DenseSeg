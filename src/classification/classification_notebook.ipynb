{
 "cells": [
  {
   "cell_type": "markdown",
   "source": [
    "# Classification of Data: PointNet++\n",
    "\n",
    "The first step in this process is to classify all unclassified data in the LiDAR dataset. This will ensure proper building skeletons prior to densification. \n",
    "\n",
    "We will be training a PointNet++ model to do this; The data will be trained on the already classified data. "
   ],
   "metadata": {
    "collapsed": false
   },
   "id": "875a3c2cc5946ddf"
  },
  {
   "cell_type": "code",
   "execution_count": 1,
   "outputs": [
    {
     "ename": "ModuleNotFoundError",
     "evalue": "No module named 'pylas'",
     "output_type": "error",
     "traceback": [
      "\u001B[0;31m---------------------------------------------------------------------------\u001B[0m",
      "\u001B[0;31mModuleNotFoundError\u001B[0m                       Traceback (most recent call last)",
      "Cell \u001B[0;32mIn[1], line 2\u001B[0m\n\u001B[1;32m      1\u001B[0m \u001B[38;5;66;03m# Data preprocessing\u001B[39;00m\n\u001B[0;32m----> 2\u001B[0m \u001B[38;5;28;01mimport\u001B[39;00m \u001B[38;5;21;01mpylas\u001B[39;00m\n\u001B[1;32m      3\u001B[0m \u001B[38;5;28;01mimport\u001B[39;00m \u001B[38;5;21;01mos\u001B[39;00m\n\u001B[1;32m      4\u001B[0m \u001B[38;5;28;01mimport\u001B[39;00m \u001B[38;5;21;01mtqdm\u001B[39;00m\n",
      "\u001B[0;31mModuleNotFoundError\u001B[0m: No module named 'pylas'"
     ]
    }
   ],
   "source": [
    "# Data preprocessing\n",
    "import pylas\n",
    "import os\n",
    "import tqdm\n",
    "import src.utils.data_helper as data_helper\n",
    "import config\n",
    "import pickle\n",
    "\n",
    "config = config.get_config()"
   ],
   "metadata": {
    "collapsed": false,
    "ExecuteTime": {
     "end_time": "2023-11-09T01:05:03.956005Z",
     "start_time": "2023-11-09T00:55:15.608200Z"
    }
   },
   "id": "434b7693240d962a"
  },
  {
   "cell_type": "code",
   "execution_count": 2,
   "outputs": [
    {
     "name": "stderr",
     "output_type": "stream",
     "text": [
      "100%|██████████| 54/54 [02:46<00:00,  3.08s/it]\n"
     ]
    }
   ],
   "source": [
    "\n",
    "for filename in tqdm.tqdm(os.listdir(config.lidar_directory)):\n",
    "    if filename.endswith(\".las\"):\n",
    "        las = pylas.read(os.path.join(config.lidar_directory, filename))\n",
    "        classified_las, unclassified_las = data_helper.split_las(las)\n",
    "        data_helper.convert_to_pkl(classified_las, os.path.join(config.pkl_classified_directory, filename[:-4] + \".pkl\"))\n",
    "        data_helper.convert_to_pkl(unclassified_las, os.path.join(config.pkl_unclassified_directory, filename[:-4] + \".pkl\"))\n",
    "\n",
    "# merge the pkl files into a single file (for each classified and unclassified)\n"
   ],
   "metadata": {
    "collapsed": false,
    "ExecuteTime": {
     "end_time": "2023-11-08T16:39:18.950832500Z",
     "start_time": "2023-11-08T16:36:32.672086500Z"
    }
   },
   "id": "66a7b3012254ddfb"
  },
  {
   "cell_type": "code",
   "execution_count": 3,
   "outputs": [],
   "source": [
    "data_helper.merge_pkl_files(config.pkl_classified_directory, os.path.join(config.pkl_classified_directory, \"classified_merged.pkl\"))\n",
    "data_helper.merge_pkl_files(config.pkl_unclassified_directory, os.path.join(config.pkl_unclassified_directory, \"unclassified_merged.pkl\"))"
   ],
   "metadata": {
    "collapsed": false,
    "ExecuteTime": {
     "end_time": "2023-11-08T16:41:41.153453400Z",
     "start_time": "2023-11-08T16:39:18.949832600Z"
    }
   },
   "id": "91929394dc21b843"
  },
  {
   "cell_type": "markdown",
   "source": [
    "Unclassified\n",
    "Ground\n",
    "Low Vegetation\n",
    "Medium Vegetation\n",
    "High Vegetation\n",
    "Building\n",
    "Low Point (Noise)\n",
    "Reserved\n",
    "Water\n",
    "Rail\n",
    "Road Surface\n",
    "Reserved\n",
    "Wire - Guard (Shield)\n",
    "Wire - Conductor (Phase)\n",
    "Transmission Tower\n",
    "Wire-Structure Connector (Insulator)\n",
    " Bridge Deck\n",
    "High Noise"
   ],
   "metadata": {
    "collapsed": false
   },
   "id": "692dbf025104b6c9"
  },
  {
   "cell_type": "markdown",
   "source": [
    "# Classification Training"
   ],
   "metadata": {
    "collapsed": false
   },
   "id": "246ae414aa05220b"
  },
  {
   "cell_type": "code",
   "execution_count": 4,
   "outputs": [],
   "source": [
    "NUM_CLASSES = 17  # not taking into account unclassified. Not all of these classes are used; TODO check if it's okay that the latter half never have any points\n",
    "points_dir = os.path.join(config.pkl_classified_directory, \"classified_merged_points.pkl\")\n",
    "labels_dir = os.path.join(config.pkl_classified_directory, \"classified_merged_labels.pkl\")\n",
    "\n",
    "with open(points_dir, \"rb\") as f:\n",
    "    points = pickle.load(f)\n",
    "    \n",
    "with open(labels_dir, \"rb\") as f:\n",
    "    labels = pickle.load(f)\n",
    "    \n"
   ],
   "metadata": {
    "collapsed": false,
    "ExecuteTime": {
     "end_time": "2023-11-08T16:41:41.159321500Z",
     "start_time": "2023-11-08T16:41:41.151452600Z"
    }
   },
   "id": "ef7a20c83a6815af"
  }
 ],
 "metadata": {
  "kernelspec": {
   "display_name": "Python 3",
   "language": "python",
   "name": "python3"
  },
  "language_info": {
   "codemirror_mode": {
    "name": "ipython",
    "version": 2
   },
   "file_extension": ".py",
   "mimetype": "text/x-python",
   "name": "python",
   "nbconvert_exporter": "python",
   "pygments_lexer": "ipython2",
   "version": "2.7.6"
  }
 },
 "nbformat": 4,
 "nbformat_minor": 5
}
