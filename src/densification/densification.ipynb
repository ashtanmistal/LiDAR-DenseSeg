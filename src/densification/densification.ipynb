{
 "cells": [
  {
   "cell_type": "code",
   "execution_count": 1,
   "id": "4a1e5780758f7bf6",
   "metadata": {
    "collapsed": true,
    "ExecuteTime": {
     "end_time": "2023-12-06T20:17:00.409238300Z",
     "start_time": "2023-12-06T20:17:00.351768900Z"
    }
   },
   "outputs": [],
   "source": [
    "# get current directory and append system path\n",
    "import os\n",
    "import sys\n",
    "import json\n",
    "import numpy as np\n",
    "import glob\n",
    "import tqdm"
   ]
  },
  {
   "cell_type": "code",
   "execution_count": 2,
   "outputs": [],
   "source": [
    "path = os.getcwd()\n",
    "# go up one directory\n",
    "path = os.path.dirname(path)\n",
    "sys.path.append(path)\n",
    "# go to the following:\n",
    "# classification/pointnetpp/data/buildings_split\n",
    "data_load_path = os.path.join(path, 'classification', 'pointnetpp', 'data', 'buildings_split')\n",
    "data_save_path = os.path.join(path, 'densification', 'sapcu', 'buildings_split')\n",
    "# This path contains a bunch of .npy files\n",
    "# we need to do some processing on them"
   ],
   "metadata": {
    "collapsed": false,
    "ExecuteTime": {
     "end_time": "2023-12-06T20:17:00.411684900Z",
     "start_time": "2023-12-06T20:17:00.409680700Z"
    }
   },
   "id": "initial_id"
  },
  {
   "cell_type": "code",
   "execution_count": 3,
   "outputs": [],
   "source": [
    "# The processing we will do:\n",
    "# 1. Load the .npy files\n",
    "# 2. For each .npy file, we will:\n",
    "#   a. Extract only xyz (first 3 columns)\n",
    "#   b. Convert to .xyz file\n",
    "#   c. Save to a new directory (the save path)"
   ],
   "metadata": {
    "collapsed": false,
    "ExecuteTime": {
     "end_time": "2023-12-06T20:17:00.413544300Z",
     "start_time": "2023-12-06T20:17:00.412040500Z"
    }
   },
   "id": "20483dbf5af61212"
  },
  {
   "cell_type": "code",
   "execution_count": 4,
   "outputs": [
    {
     "name": "stderr",
     "output_type": "stream",
     "text": [
      "100%|██████████| 864/864 [00:39<00:00, 21.77it/s]"
     ]
    },
    {
     "name": "stdout",
     "output_type": "stream",
     "text": [
      "Done\n"
     ]
    },
    {
     "name": "stderr",
     "output_type": "stream",
     "text": [
      "\n"
     ]
    }
   ],
   "source": [
    "# load the .npy files\n",
    "min_coords = {}\n",
    "files = glob.glob(os.path.join(data_load_path, '*.npy'))\n",
    "for file in tqdm.tqdm(files):\n",
    "    # do the processing only if it ends on _points.npy\n",
    "    if not file.endswith('_points.npy'):\n",
    "        continue\n",
    "    # load the file\n",
    "    points = np.load(file)\n",
    "    # extract only xyz\n",
    "    xyz = points[:, :3]\n",
    "    # find the corresponding _labels.npy file\n",
    "    labels_file = file[:-11] + '_labels.npy'\n",
    "    # load the labels\n",
    "    labels = np.load(labels_file)\n",
    "    # convert labels to int\n",
    "    labels = labels.astype(int)\n",
    "    # filter the points to only include ones that have a label of 5 (building)\n",
    "    xyz = xyz[labels == 5]\n",
    "    # convert to double precision float\n",
    "    xyz = xyz.astype(np.float64)\n",
    "    # save the min x, y, z in the dictionary\n",
    "    # get the file name\n",
    "    file_name = os.path.basename(file)\n",
    "    # remove the .npy extension\n",
    "    file_name = file_name[:-4]\n",
    "    # add the .xyz extension\n",
    "    file_name = file_name + '.xyz'\n",
    "    # save to the new directory\n",
    "    if not os.path.exists(data_save_path):\n",
    "        os.makedirs(data_save_path)\n",
    "    np.savetxt(os.path.join(data_save_path, file_name), xyz, delimiter=' ', fmt='%1.8e')\n",
    "\n",
    "# save the dictionary with the min x, y, z as a json file\n",
    "\n",
    "with open(os.path.join(data_save_path, 'min_coords.json'), 'w') as f:\n",
    "    json.dump(min_coords, f)\n",
    "    \n",
    "print('Done')"
   ],
   "metadata": {
    "collapsed": false,
    "ExecuteTime": {
     "end_time": "2023-12-06T20:17:40.128200900Z",
     "start_time": "2023-12-06T20:17:00.416044400Z"
    }
   },
   "id": "f24cfafbe0b30ce9"
  },
  {
   "cell_type": "code",
   "execution_count": 4,
   "outputs": [],
   "source": [],
   "metadata": {
    "collapsed": false,
    "ExecuteTime": {
     "end_time": "2023-12-06T20:17:40.130702900Z",
     "start_time": "2023-12-06T20:17:40.127697800Z"
    }
   },
   "id": "6b43723f3abad691"
  }
 ],
 "metadata": {
  "kernelspec": {
   "display_name": "Python 3",
   "language": "python",
   "name": "python3"
  },
  "language_info": {
   "codemirror_mode": {
    "name": "ipython",
    "version": 2
   },
   "file_extension": ".py",
   "mimetype": "text/x-python",
   "name": "python",
   "nbconvert_exporter": "python",
   "pygments_lexer": "ipython2",
   "version": "2.7.6"
  }
 },
 "nbformat": 4,
 "nbformat_minor": 5
}
