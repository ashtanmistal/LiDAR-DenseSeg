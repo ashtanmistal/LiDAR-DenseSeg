{
 "cells": [
  {
   "cell_type": "markdown",
   "source": [
    "# Colorization of Densified Point Clouds\n",
    "\n",
    "The densified point cloud ignores all color in the original point cloud. This script uses the original point cloud to colorize the densified point cloud based on a weighted nearest neighbor search."
   ],
   "metadata": {
    "collapsed": false
   },
   "id": "6513466934eb8529"
  },
  {
   "cell_type": "code",
   "execution_count": 1,
   "outputs": [
    {
     "name": "stderr",
     "output_type": "stream",
     "text": [
      " 75%|███████▌  | 9/12 [19:31<06:30, 130.13s/it]\n",
      "\n",
      "KeyboardInterrupt\n",
      "\n"
     ]
    }
   ],
   "source": [
    "# Original point cloud is given in .npy format, with XYZRGBL data\n",
    "# Densified point cloud is given in .xyz format, with XYZ data (can be read as plain text)\n",
    "\n",
    "import numpy as np\n",
    "import glob\n",
    "from sklearn.neighbors import KDTree\n",
    "import tqdm\n",
    "\n",
    "original_point_cloud_paths =  glob.glob(\"buildings_split/*.npy\")\n",
    "densified_point_cloud_paths = glob.glob(\"buildings_split/*.xyz\")\n",
    "\n",
    "def write_ply(filename, data):\n",
    "    with open(filename, 'w') as f:\n",
    "        f.write(\"ply\\n\")\n",
    "        f.write(\"format ascii 1.0\\n\")\n",
    "        f.write(\"element vertex {}\\n\".format(len(data)))\n",
    "        f.write(\"property float x\\n\")\n",
    "        f.write(\"property float y\\n\")\n",
    "        f.write(\"property float z\\n\")\n",
    "        f.write(\"property uchar red\\n\")\n",
    "        f.write(\"property uchar green\\n\")\n",
    "        f.write(\"property uchar blue\\n\")\n",
    "        f.write(\"end_header\\n\")\n",
    "        for row in data:\n",
    "            f.write(\"{} {} {} {} {} {}\\n\".format(row[0], row[1], row[2], int(row[3]), int(row[4]), int(row[5])))\n",
    "\n",
    "# If a point in the densified point cloud is the same as a point in the original point cloud, it is given the color of the original point cloud\n",
    "# we will need to take that into account when weighting the nearest neighbors\n",
    "\n",
    "for i in tqdm.tqdm(range(len(densified_point_cloud_paths))):\n",
    "    densified_point_cloud = np.loadtxt(densified_point_cloud_paths[i])\n",
    "    # load the original point cloud with the same name as the densified point cloud\n",
    "    file_name_without_extension = densified_point_cloud_paths[i].split(\"/\")[-1].split(\".\")[0]\n",
    "    original_point_cloud = np.load(\"{}.npy\".format(file_name_without_extension))\n",
    "    # add columns for the color of the densified point cloud and last column for the label\n",
    "    densified_point_cloud = np.hstack((densified_point_cloud, np.zeros((len(densified_point_cloud), 4))))\n",
    "\n",
    "    # build a KDTree for the original point cloud\n",
    "    original_point_cloud_tree = KDTree(original_point_cloud[:, :3], leaf_size=2)\n",
    "    # for each point in the densified point cloud, find the nearest neighbor in the original point cloud\n",
    "    for j in range(len(densified_point_cloud)):\n",
    "        # find the nearest neighbor in the original point cloud\n",
    "        _, nearest_neighbor_index = original_point_cloud_tree.query(densified_point_cloud[j, :3].reshape(1, -1), k=1)\n",
    "        # assign the color of the nearest neighbor to the densified point cloud\n",
    "        densified_point_cloud[j, 3:6] = original_point_cloud[nearest_neighbor_index, 3:6]\n",
    "        # the label is always 5 (building)\n",
    "        densified_point_cloud[j, 6] = 5\n",
    "        \n",
    "    \n",
    "    # Save the colored point cloud\n",
    "    # if the file does not exist, it will be created. If it already exists, it will be overwritten\n",
    "    filename = \"{}_colored.ply\".format(file_name_without_extension)\n",
    "    write_ply(filename, densified_point_cloud)\n",
    "    \n"
   ],
   "metadata": {
    "collapsed": false,
    "ExecuteTime": {
     "end_time": "2023-12-12T21:51:38.063062100Z",
     "start_time": "2023-12-12T21:32:04.701829800Z"
    }
   },
   "id": "caa01841f205b17f"
  },
  {
   "cell_type": "code",
   "execution_count": null,
   "outputs": [],
   "source": [],
   "metadata": {
    "collapsed": false
   },
   "id": "5bdc91d82e9d9f04"
  }
 ],
 "metadata": {
  "kernelspec": {
   "display_name": "Python 3",
   "language": "python",
   "name": "python3"
  },
  "language_info": {
   "codemirror_mode": {
    "name": "ipython",
    "version": 2
   },
   "file_extension": ".py",
   "mimetype": "text/x-python",
   "name": "python",
   "nbconvert_exporter": "python",
   "pygments_lexer": "ipython2",
   "version": "2.7.6"
  }
 },
 "nbformat": 4,
 "nbformat_minor": 5
}
