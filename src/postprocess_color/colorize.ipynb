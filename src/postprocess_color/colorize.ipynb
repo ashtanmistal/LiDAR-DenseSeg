{
 "cells": [
  {
   "cell_type": "markdown",
   "source": [
    "# Colorization of Densified Point Clouds\n",
    "\n",
    "The densified point cloud ignores all color in the original point cloud. This script uses the original point cloud to colorize the densified point cloud based on a weighted nearest neighbor search."
   ],
   "metadata": {
    "collapsed": false
   },
   "id": "6513466934eb8529"
  },
  {
   "cell_type": "code",
   "execution_count": null,
   "outputs": [],
   "source": [
    "# Original point cloud is given in .npy format, with XYZRGBL data\n",
    "# Densified point cloud is given in .xyz format, with XYZ data (can be read as plain text)\n",
    "\n",
    "import numpy as np\n",
    "import glob\n",
    "from sklearn.neighbors import KDTree\n",
    "\n",
    "original_point_cloud_paths = glob.glob(\"data/point_clouds/*.npy\")\n",
    "densified_point_cloud_paths = glob.glob(\"data/point_clouds/*.xyz\")\n",
    "\n",
    "# If a point in the densified point cloud is the same as a point in the original point cloud, it is given the color of the original point cloud\n",
    "# we will need to take that into account when weighting the nearest neighbors\n",
    "\n",
    "for i in range(len(original_point_cloud_paths)):\n",
    "    original_point_cloud = np.load(original_point_cloud_paths[i])\n",
    "    densified_point_cloud = np.loadtxt(densified_point_cloud_paths[i])\n",
    "    # add columns for the color of the densified point cloud and last column for the label\n",
    "    densified_point_cloud = np.hstack((densified_point_cloud, np.zeros((len(densified_point_cloud), 4))))\n",
    "\n",
    "    # We will use a KDTree to find the nearest neighbors\n",
    "    tree = KDTree(original_point_cloud[:, :3], leaf_size=2)\n",
    "\n",
    "    # Find the nearest neighbors of each point in the densified point cloud\n",
    "    distances, indices = tree.query(densified_point_cloud[:, :3], k=3)\n",
    "    \n",
    "    # We will weight the nearest neighbors by the inverse of their distance\n",
    "    weights = 1 / distances\n",
    "    \n",
    "    # Normalize the weights\n",
    "    weights = weights / np.sum(weights, axis=1)[:, None]\n",
    "    \n",
    "    # Colorize the densified point cloud\n",
    "    for j in range(len(densified_point_cloud)):\n",
    "        densified_point_cloud[j, 3:] = np.sum(weights[j] * original_point_cloud[indices[j], 3:], axis=0)\n",
    "        \n",
    "        # the last column should be set to 5 (this is \"building\", and all we are densifying are buildings)\n",
    "        densified_point_cloud[j, -1] = 5\n",
    "    \n",
    "    # Save the colored point cloud\n",
    "    np.savetxt(\"data/point_clouds/densified_point_cloud_{}.xyzrgbl\".format(i), densified_point_cloud, fmt=\"%.6f %.6f %.6f %d %d %d %d %d\")\n",
    "    # this is a weird format so we may want to save as .las instead (or .ply)\n",
    "    \n"
   ],
   "metadata": {
    "collapsed": false
   },
   "id": "caa01841f205b17f"
  }
 ],
 "metadata": {
  "kernelspec": {
   "display_name": "Python 3",
   "language": "python",
   "name": "python3"
  },
  "language_info": {
   "codemirror_mode": {
    "name": "ipython",
    "version": 2
   },
   "file_extension": ".py",
   "mimetype": "text/x-python",
   "name": "python",
   "nbconvert_exporter": "python",
   "pygments_lexer": "ipython2",
   "version": "2.7.6"
  }
 },
 "nbformat": 4,
 "nbformat_minor": 5
}
